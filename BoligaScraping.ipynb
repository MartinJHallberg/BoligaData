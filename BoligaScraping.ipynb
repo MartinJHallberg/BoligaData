{
 "cells": [
  {
   "cell_type": "markdown",
   "id": "abc7e5b8-b5bb-4118-abe9-e78e492d89d4",
   "metadata": {},
   "source": [
    "# Setup"
   ]
  },
  {
   "cell_type": "code",
   "execution_count": 1,
   "id": "4d629832-baa0-4c63-af0c-1914c8a2d529",
   "metadata": {
    "tags": []
   },
   "outputs": [],
   "source": [
    "import requests\n",
    "from bs4 import BeautifulSoup\n",
    "import pandas as pd\n",
    "import re\n",
    "import time\n",
    "from selenium import webdriver\n",
    "from selenium.webdriver.common.by import By\n",
    "from selenium.webdriver.support.ui import WebDriverWait\n",
    "from selenium.webdriver.support import expected_conditions as EC"
   ]
  },
  {
   "cell_type": "markdown",
   "id": "05e39648-63fb-4d82-a654-23706879b3d5",
   "metadata": {},
   "source": [
    "## Connect\n",
    "Set up connection"
   ]
  },
  {
   "cell_type": "code",
   "execution_count": 2,
   "id": "cc2b947c-5b0f-4151-84be-cdce728c1b36",
   "metadata": {},
   "outputs": [],
   "source": [
    "# Set URL to Boliga search\n",
    "URL = 'https://www.boliga.dk/salg/resultater?propertyType=1,2,3&municipality=101&salesDateMin=2015&salesDateMax=today&searchTab=1&sort=date-d&page=1'\n",
    "\n",
    "# Set user agent\n",
    "''' Link to find user agent\n",
    "https://httpbin.org/get\n",
    "'''\n",
    "headers = {\n",
    "    'User-Agent': 'Mozilla/5.0 (Windows NT 10.0; Win64; x64) AppleWebKit/537.36 (KHTML, like Gecko) Chrome/97.0.4692.99 Safari/537.36',\n",
    "    \"Accept\": \"text/html,application/xhtml+xml,application/xml;q=0.9,image/avif,image/webp,image/apng,*/*;q=0.8,application/signed-exchange;v=b3;q=0.9\", \n",
    "    \"Accept-Encoding\": \"gzip, deflate, br\"\n",
    "}"
   ]
  },
  {
   "cell_type": "markdown",
   "id": "1ad9fab4-ba84-47f4-973d-11c30f334dfc",
   "metadata": {},
   "source": [
    "## Functions"
   ]
  },
  {
   "cell_type": "markdown",
   "id": "79e90c8f-115e-40c2-bf9e-5491ed4a8958",
   "metadata": {
    "tags": []
   },
   "source": [
    "### Function 1\n",
    "Create function to scrape single page from Boliga."
   ]
  },
  {
   "cell_type": "code",
   "execution_count": 3,
   "id": "8dfe5beb-edca-42e0-9d68-a9276b72ddce",
   "metadata": {},
   "outputs": [],
   "source": [
    "def fun_scrape_boliga(\n",
    "    wd, # Webdriver session\n",
    "    do_print  = 0 # set 1 to print\n",
    "):\n",
    "    \n",
    "    # Find table element\n",
    "    table = WebDriverWait(wd, 10).until(\n",
    "    EC.presence_of_element_located((By.XPATH, '/html/body/app-root/app-scroll-position-restoration/app-main-layout/app-sold-properties-list/div[3]/app-sold-list-table/table'))\n",
    "    )\n",
    "    \n",
    "    \n",
    "    # Initalize list to data frames\n",
    "    l_dfs = []    \n",
    "    \n",
    "    # Find table rows\n",
    "    l_table_rows = WebDriverWait(wd, 20).until(\n",
    "    EC.presence_of_all_elements_located((By.TAG_NAME, 'tr'))\n",
    "    )\n",
    "    \n",
    "    \n",
    "    \n",
    "    # Loop through table rows\n",
    "    for r in l_table_rows:\n",
    "        \n",
    "        # Get values from row\n",
    "        l_values = r.text.split('\\n')\n",
    "        \n",
    "        # Create list with column names\n",
    "        l_col_names = ['Type', 'StreetAddress','Area', 'Price', 'Date','SellType', 'Size', 'Price_m2', 'Rooms_YearBuilt_PriceChange']\n",
    "\n",
    "        # Zip values and columns names to dict\n",
    "        dict_row = dict(zip(l_col_names, l_values))\n",
    "\n",
    "        # Create data frame from dict\n",
    "        df = pd.DataFrame.from_dict([dict_row])\n",
    "        \n",
    "        # Append values to data frame\n",
    "        l_dfs.append(df)\n",
    "        \n",
    "        # Print row number\n",
    "        if print == 1:\n",
    "            print('Row {} parsed'.format(count))\n",
    "    \n",
    "        \n",
    "    # Concatenate dataframes to one, and return\n",
    "    df_out = pd.concat(l_dfs)\n",
    "    \n",
    "    print('Page parsed')\n",
    "    return df_out  \n"
   ]
  },
  {
   "cell_type": "markdown",
   "id": "5de47833-7eaa-477c-b814-857b4c82a0ca",
   "metadata": {
    "tags": []
   },
   "source": [
    "### Function 2\n",
    "Create function to loop through all pages of search on Boliga"
   ]
  },
  {
   "cell_type": "code",
   "execution_count": 4,
   "id": "3eddeb5d-c54d-400c-85a4-03d7f771da7b",
   "metadata": {},
   "outputs": [],
   "source": [
    "def fun_loop_boliga(\n",
    "    wd, # Webdriver session\n",
    "    date, # date to add to file names\n",
    "    max_pages = 2000, # maximum number of pages to search through\n",
    "    sleep_time = 2 # wait time\n",
    "):\n",
    "\n",
    "    ## Find number of pages ## \n",
    "    # Find buttons \n",
    "    l_buttons = wd.find_elements_by_class_name('page-button')\n",
    "    \n",
    "    # Initialize empty list to store number of pages\n",
    "    l_n_pages = []\n",
    "    \n",
    "    # For ech botton, save text in list\n",
    "    for button in l_buttons:\n",
    "        try:\n",
    "            n_pages = int(button.text)\n",
    "            l_n_pages.append(n_pages)\n",
    "        except:\n",
    "            next\n",
    "            \n",
    "    # Find maximum in list\n",
    "    max(l_n_pages)\n",
    "    n_pages = max(l_n_pages)\n",
    "    print('Number of pages: {}'.format(n_pages))\n",
    "      \n",
    "    # Change number of pages if maximum is exceeded\n",
    "    if max_pages < n_pages:\n",
    "        n_pages = max_pages\n",
    "        print('Number of pages set to max. pages: {}'.format(n_pages))\n",
    "    \n",
    "    \n",
    "    ## Loop through pages ## \n",
    "    # Initialize empty list of data frames\n",
    "    l_dfs = []\n",
    "    \n",
    "    i = 1\n",
    "    while i <= n_pages:\n",
    "\n",
    "        time.sleep(sleep_time)\n",
    "        \n",
    "        # Call function to scrape single page\n",
    "        df = fun_scrape_boliga(wd)\n",
    "        \n",
    "        file = 'Files/BoligaScraping_' + str(date) + '_Page_{}.csv'.format(i)\n",
    "        \n",
    "        # Print each page to a file, in case of lost connection\n",
    "        df.to_csv(file,\n",
    "                 index = False)\n",
    "        \n",
    "        print(i)\n",
    "        i += 1\n",
    "                \n",
    "        # Append data frame to list\n",
    "        l_dfs.append(df)\n",
    "        \n",
    "        # Get next page\n",
    "        wd.find_element_by_xpath('/html/body/app-root/app-scroll-position-restoration/app-main-layout/app-sold-properties-list/div[3]/div/div/app-pagination/div/div[4]/a').click()\n",
    "        \n",
    "        \n",
    "    # Concatenate data frames\n",
    "    df_out = pd.concat(l_dfs)\n",
    "    \n",
    "    print('Done!')\n",
    "    return(df_out)\n",
    "                               \n",
    "                               "
   ]
  },
  {
   "cell_type": "markdown",
   "id": "adda411e-9c4d-4dd8-b290-daab507d25cf",
   "metadata": {},
   "source": [
    "# Scrape "
   ]
  },
  {
   "cell_type": "code",
   "execution_count": 5,
   "id": "6221accc-4060-4c6e-bc33-a5f4db3e3486",
   "metadata": {
    "scrolled": true,
    "tags": []
   },
   "outputs": [
    {
     "name": "stdout",
     "output_type": "stream",
     "text": [
      "Number of pages: 1087\n",
      "Number of pages set to max. pages: 1\n",
      "Page parsed\n",
      "1\n",
      "Done!\n"
     ]
    }
   ],
   "source": [
    "# Initialize Chrome\n",
    "wd = webdriver.Chrome(executable_path='chromedriver.exe')\n",
    "\n",
    "# Go to page\n",
    "wd.get(URL)\n",
    "\n",
    "# Click to pass Cookie pop-up\n",
    "wd.find_element_by_xpath('//*[@id=\"coiPage-1\"]/div[2]/div[1]/button[2]').click()\n",
    "\n",
    "\n",
    "# Run function to scrape websie\n",
    "df = fun_loop_boliga(wd,\n",
    "                     date = 20220314,\n",
    "                     max_pages = 1,\n",
    "                     sleep_time = 3)\n"
   ]
  },
  {
   "cell_type": "markdown",
   "id": "354cc2d9-3098-4935-ba79-1a4b00313ca4",
   "metadata": {},
   "source": [
    "Check data"
   ]
  },
  {
   "cell_type": "code",
   "execution_count": 7,
   "id": "80e2ac91-0dc9-4594-8977-142bf707c639",
   "metadata": {},
   "outputs": [
    {
     "name": "stdout",
     "output_type": "stream",
     "text": [
      "(50, 9)\n"
     ]
    },
    {
     "data": {
      "text/html": [
       "<div>\n",
       "<style scoped>\n",
       "    .dataframe tbody tr th:only-of-type {\n",
       "        vertical-align: middle;\n",
       "    }\n",
       "\n",
       "    .dataframe tbody tr th {\n",
       "        vertical-align: top;\n",
       "    }\n",
       "\n",
       "    .dataframe thead th {\n",
       "        text-align: right;\n",
       "    }\n",
       "</style>\n",
       "<table border=\"1\" class=\"dataframe\">\n",
       "  <thead>\n",
       "    <tr style=\"text-align: right;\">\n",
       "      <th></th>\n",
       "      <th>Type</th>\n",
       "      <th>StreetAddress</th>\n",
       "      <th>Area</th>\n",
       "      <th>Price</th>\n",
       "      <th>Date</th>\n",
       "      <th>SellType</th>\n",
       "      <th>Size</th>\n",
       "      <th>Price_m2</th>\n",
       "      <th>Rooms_YearBuilt_PriceChange</th>\n",
       "    </tr>\n",
       "  </thead>\n",
       "  <tbody>\n",
       "    <tr>\n",
       "      <th>0</th>\n",
       "      <td>E</td>\n",
       "      <td>Damagervej 5B, st. tv</td>\n",
       "      <td>2450 København SV</td>\n",
       "      <td>1.300.000 kr.</td>\n",
       "      <td>02-03-2022</td>\n",
       "      <td>Fam. Salg</td>\n",
       "      <td>66 m²</td>\n",
       "      <td>19.697 kr/m²</td>\n",
       "      <td>2 1953 Aktuel værdi</td>\n",
       "    </tr>\n",
       "    <tr>\n",
       "      <th>0</th>\n",
       "      <td>E</td>\n",
       "      <td>Hobrogade 4, 4. tv</td>\n",
       "      <td>2100 København Ø</td>\n",
       "      <td>1.955.000 kr.</td>\n",
       "      <td>02-03-2022</td>\n",
       "      <td>Fam. Salg</td>\n",
       "      <td>72 m²</td>\n",
       "      <td>27.153 kr/m²</td>\n",
       "      <td>3 1900 Aktuel værdi</td>\n",
       "    </tr>\n",
       "    <tr>\n",
       "      <th>0</th>\n",
       "      <td>E</td>\n",
       "      <td>Havdrupvej 11, st. tv</td>\n",
       "      <td>2700 Brønshøj</td>\n",
       "      <td>2.000.000 kr.</td>\n",
       "      <td>02-03-2022</td>\n",
       "      <td>Alm. Salg</td>\n",
       "      <td>54 m²</td>\n",
       "      <td>37.037 kr/m²</td>\n",
       "      <td>2 1937 -5% Aktuel værdi</td>\n",
       "    </tr>\n",
       "    <tr>\n",
       "      <th>0</th>\n",
       "      <td>E</td>\n",
       "      <td>Esbern Snares Gade 14, 4. th</td>\n",
       "      <td>1725 København V</td>\n",
       "      <td>1.147.500 kr.</td>\n",
       "      <td>01-03-2022</td>\n",
       "      <td>Fam. Salg</td>\n",
       "      <td>61 m²</td>\n",
       "      <td>18.811 kr/m²</td>\n",
       "      <td>2 1907 Aktuel værdi</td>\n",
       "    </tr>\n",
       "    <tr>\n",
       "      <th>0</th>\n",
       "      <td>E</td>\n",
       "      <td>Victor Borges Plads 4, 1. th</td>\n",
       "      <td>2100 København Ø</td>\n",
       "      <td>6.384.354 kr.</td>\n",
       "      <td>01-03-2022</td>\n",
       "      <td>Alm. Salg</td>\n",
       "      <td>171 m²</td>\n",
       "      <td>37.335 kr/m²</td>\n",
       "      <td>6 1900 Aktuel værdi</td>\n",
       "    </tr>\n",
       "  </tbody>\n",
       "</table>\n",
       "</div>"
      ],
      "text/plain": [
       "  Type                 StreetAddress               Area          Price  \\\n",
       "0    E         Damagervej 5B, st. tv  2450 København SV  1.300.000 kr.   \n",
       "0    E            Hobrogade 4, 4. tv   2100 København Ø  1.955.000 kr.   \n",
       "0    E         Havdrupvej 11, st. tv      2700 Brønshøj  2.000.000 kr.   \n",
       "0    E  Esbern Snares Gade 14, 4. th   1725 København V  1.147.500 kr.   \n",
       "0    E  Victor Borges Plads 4, 1. th   2100 København Ø  6.384.354 kr.   \n",
       "\n",
       "         Date   SellType    Size      Price_m2 Rooms_YearBuilt_PriceChange  \n",
       "0  02-03-2022  Fam. Salg   66 m²  19.697 kr/m²         2 1953 Aktuel værdi  \n",
       "0  02-03-2022  Fam. Salg   72 m²  27.153 kr/m²         3 1900 Aktuel værdi  \n",
       "0  02-03-2022  Alm. Salg   54 m²  37.037 kr/m²     2 1937 -5% Aktuel værdi  \n",
       "0  01-03-2022  Fam. Salg   61 m²  18.811 kr/m²         2 1907 Aktuel værdi  \n",
       "0  01-03-2022  Alm. Salg  171 m²  37.335 kr/m²         6 1900 Aktuel værdi  "
      ]
     },
     "execution_count": 7,
     "metadata": {},
     "output_type": "execute_result"
    }
   ],
   "source": [
    "print(df.shape)\n",
    "\n",
    "df.head()"
   ]
  },
  {
   "cell_type": "markdown",
   "id": "2ee099f9-4733-46d9-affb-bfa210601c8a",
   "metadata": {},
   "source": [
    "Write data"
   ]
  },
  {
   "cell_type": "code",
   "execution_count": null,
   "id": "bd0486df-0b03-4899-a949-1a866dc968c3",
   "metadata": {},
   "outputs": [],
   "source": [
    "#df.to_csv('Data_Boliga_20220208.csv', index  = False)"
   ]
  }
 ],
 "metadata": {
  "kernelspec": {
   "display_name": "Python 3 (ipykernel)",
   "language": "python",
   "name": "python3"
  },
  "language_info": {
   "codemirror_mode": {
    "name": "ipython",
    "version": 3
   },
   "file_extension": ".py",
   "mimetype": "text/x-python",
   "name": "python",
   "nbconvert_exporter": "python",
   "pygments_lexer": "ipython3",
   "version": "3.8.3"
  }
 },
 "nbformat": 4,
 "nbformat_minor": 5
}
