{
 "cells": [
  {
   "cell_type": "markdown",
   "id": "68f4e7c8-b1e8-4822-b43b-f22404ec9af4",
   "metadata": {},
   "source": [
    "# Setup"
   ]
  },
  {
   "cell_type": "code",
   "execution_count": 1,
   "id": "b959e282-c004-467b-8aea-2854b6d5d3b1",
   "metadata": {},
   "outputs": [],
   "source": [
    "import pandas as pd\n",
    "import re\n",
    "import seaborn as sns\n",
    "import plotly.express as px\n",
    "import matplotlib.pyplot as plt"
   ]
  },
  {
   "cell_type": "markdown",
   "id": "d1ac080f-ab67-4171-b664-9241e30e61d0",
   "metadata": {},
   "source": [
    "# Data Preparation \n",
    "Read scraped data"
   ]
  },
  {
   "cell_type": "code",
   "execution_count": 2,
   "id": "52feced9-b758-4cca-a0b2-6bbc8c88f120",
   "metadata": {},
   "outputs": [
    {
     "data": {
      "text/html": [
       "<div>\n",
       "<style scoped>\n",
       "    .dataframe tbody tr th:only-of-type {\n",
       "        vertical-align: middle;\n",
       "    }\n",
       "\n",
       "    .dataframe tbody tr th {\n",
       "        vertical-align: top;\n",
       "    }\n",
       "\n",
       "    .dataframe thead th {\n",
       "        text-align: right;\n",
       "    }\n",
       "</style>\n",
       "<table border=\"1\" class=\"dataframe\">\n",
       "  <thead>\n",
       "    <tr style=\"text-align: right;\">\n",
       "      <th></th>\n",
       "      <th>Type</th>\n",
       "      <th>StreetAddress</th>\n",
       "      <th>Area</th>\n",
       "      <th>Price</th>\n",
       "      <th>Date</th>\n",
       "      <th>SellType</th>\n",
       "      <th>Size</th>\n",
       "      <th>Price_m2</th>\n",
       "      <th>Rooms_YearBuilt_PriceChange</th>\n",
       "    </tr>\n",
       "  </thead>\n",
       "  <tbody>\n",
       "    <tr>\n",
       "      <th>0</th>\n",
       "      <td>E</td>\n",
       "      <td>Amerika Plads 6, 3. th</td>\n",
       "      <td>2100 København Ø</td>\n",
       "      <td>5.000.000 kr.</td>\n",
       "      <td>17-01-2022</td>\n",
       "      <td>Alm. Salg</td>\n",
       "      <td>93 m²</td>\n",
       "      <td>53.763 kr/m²</td>\n",
       "      <td>3 2007 -5% Aktuel værdi</td>\n",
       "    </tr>\n",
       "    <tr>\n",
       "      <th>1</th>\n",
       "      <td>E</td>\n",
       "      <td>Strandvejen 8, 3. tv</td>\n",
       "      <td>2100 København Ø</td>\n",
       "      <td>8.495.000 kr.</td>\n",
       "      <td>14-01-2022</td>\n",
       "      <td>Alm. Salg</td>\n",
       "      <td>170 m²</td>\n",
       "      <td>49.971 kr/m²</td>\n",
       "      <td>6 1929 Aktuel værdi</td>\n",
       "    </tr>\n",
       "    <tr>\n",
       "      <th>2</th>\n",
       "      <td>E</td>\n",
       "      <td>Nørrebrogade 9F, 1. th</td>\n",
       "      <td>2200 København N</td>\n",
       "      <td>5.400.000 kr.</td>\n",
       "      <td>14-01-2022</td>\n",
       "      <td>Alm. Salg</td>\n",
       "      <td>105 m²</td>\n",
       "      <td>51.429 kr/m²</td>\n",
       "      <td>3 1863 -2% Aktuel værdi</td>\n",
       "    </tr>\n",
       "    <tr>\n",
       "      <th>3</th>\n",
       "      <td>E</td>\n",
       "      <td>Badensgade 48, 2</td>\n",
       "      <td>2300 København S</td>\n",
       "      <td>7.200.000 kr.</td>\n",
       "      <td>14-01-2022</td>\n",
       "      <td>Alm. Salg</td>\n",
       "      <td>65 m²</td>\n",
       "      <td>110.769 kr/m²</td>\n",
       "      <td>3 1899 Aktuel værdi</td>\n",
       "    </tr>\n",
       "    <tr>\n",
       "      <th>4</th>\n",
       "      <td>E</td>\n",
       "      <td>Badensgade 48, 1</td>\n",
       "      <td>2300 København S</td>\n",
       "      <td>7.200.000 kr.</td>\n",
       "      <td>14-01-2022</td>\n",
       "      <td>Alm. Salg</td>\n",
       "      <td>79 m²</td>\n",
       "      <td>91.139 kr/m²</td>\n",
       "      <td>3 1899 Aktuel værdi</td>\n",
       "    </tr>\n",
       "  </tbody>\n",
       "</table>\n",
       "</div>"
      ],
      "text/plain": [
       "  Type           StreetAddress              Area          Price        Date  \\\n",
       "0    E  Amerika Plads 6, 3. th  2100 København Ø  5.000.000 kr.  17-01-2022   \n",
       "1    E    Strandvejen 8, 3. tv  2100 København Ø  8.495.000 kr.  14-01-2022   \n",
       "2    E  Nørrebrogade 9F, 1. th  2200 København N  5.400.000 kr.  14-01-2022   \n",
       "3    E        Badensgade 48, 2  2300 København S  7.200.000 kr.  14-01-2022   \n",
       "4    E        Badensgade 48, 1  2300 København S  7.200.000 kr.  14-01-2022   \n",
       "\n",
       "    SellType    Size       Price_m2 Rooms_YearBuilt_PriceChange  \n",
       "0  Alm. Salg   93 m²   53.763 kr/m²     3 2007 -5% Aktuel værdi  \n",
       "1  Alm. Salg  170 m²   49.971 kr/m²         6 1929 Aktuel værdi  \n",
       "2  Alm. Salg  105 m²   51.429 kr/m²     3 1863 -2% Aktuel værdi  \n",
       "3  Alm. Salg   65 m²  110.769 kr/m²         3 1899 Aktuel værdi  \n",
       "4  Alm. Salg   79 m²   91.139 kr/m²         3 1899 Aktuel værdi  "
      ]
     },
     "execution_count": 2,
     "metadata": {},
     "output_type": "execute_result"
    }
   ],
   "source": [
    "df =  pd.read_csv('Data_Boliga_20220208.csv')\n",
    "\n",
    "df.head()"
   ]
  },
  {
   "cell_type": "markdown",
   "id": "d905b10f-a5f1-4c13-80db-3937929de08b",
   "metadata": {},
   "source": [
    "## Initial filter"
   ]
  },
  {
   "cell_type": "markdown",
   "id": "14d5c2b4-3c8b-4742-9106-e58b3bd361d1",
   "metadata": {},
   "source": [
    "Keep only observations for apartments which was soled as \"almindelig salg\"."
   ]
  },
  {
   "cell_type": "code",
   "execution_count": 3,
   "id": "c2990704-dd91-4a91-b45a-22e38290fb08",
   "metadata": {},
   "outputs": [
    {
     "name": "stdout",
     "output_type": "stream",
     "text": [
      "(54793, 9)\n",
      "(40673, 9)\n"
     ]
    }
   ],
   "source": [
    "print(df.shape)\n",
    "\n",
    "df = df[(df['Type'] == 'E') & (df['SellType'] == 'Alm. Salg')]\n",
    "\n",
    "print(df.shape)"
   ]
  },
  {
   "cell_type": "markdown",
   "id": "10ac574c-9a80-48b8-811c-c4c956faf337",
   "metadata": {},
   "source": [
    "## Transform data"
   ]
  },
  {
   "cell_type": "markdown",
   "id": "fba390c0-7f26-40f7-b8c0-77c9f8e254a2",
   "metadata": {},
   "source": [
    "### Text to numeric"
   ]
  },
  {
   "cell_type": "code",
   "execution_count": 4,
   "id": "a523c583-80e2-4dfe-b912-113c4908d5b3",
   "metadata": {},
   "outputs": [
    {
     "data": {
      "text/html": [
       "<div>\n",
       "<style scoped>\n",
       "    .dataframe tbody tr th:only-of-type {\n",
       "        vertical-align: middle;\n",
       "    }\n",
       "\n",
       "    .dataframe tbody tr th {\n",
       "        vertical-align: top;\n",
       "    }\n",
       "\n",
       "    .dataframe thead th {\n",
       "        text-align: right;\n",
       "    }\n",
       "</style>\n",
       "<table border=\"1\" class=\"dataframe\">\n",
       "  <thead>\n",
       "    <tr style=\"text-align: right;\">\n",
       "      <th></th>\n",
       "      <th>Type</th>\n",
       "      <th>StreetAddress</th>\n",
       "      <th>Area</th>\n",
       "      <th>Price</th>\n",
       "      <th>Date</th>\n",
       "      <th>SellType</th>\n",
       "      <th>Size</th>\n",
       "      <th>Price_m2</th>\n",
       "      <th>Rooms_YearBuilt_PriceChange</th>\n",
       "      <th>Rooms</th>\n",
       "      <th>YearBuilt</th>\n",
       "      <th>PriceChange</th>\n",
       "      <th>PostalCode</th>\n",
       "      <th>AreaName</th>\n",
       "    </tr>\n",
       "  </thead>\n",
       "  <tbody>\n",
       "    <tr>\n",
       "      <th>0</th>\n",
       "      <td>E</td>\n",
       "      <td>Amerika Plads 6, 3. th</td>\n",
       "      <td>2100 København Ø</td>\n",
       "      <td>5000000</td>\n",
       "      <td>17-01-2022</td>\n",
       "      <td>Alm. Salg</td>\n",
       "      <td>93</td>\n",
       "      <td>53763</td>\n",
       "      <td>3 2007 -5% Aktuel værdi</td>\n",
       "      <td>3</td>\n",
       "      <td>2007</td>\n",
       "      <td>-5</td>\n",
       "      <td>2100</td>\n",
       "      <td>København Ø</td>\n",
       "    </tr>\n",
       "    <tr>\n",
       "      <th>1</th>\n",
       "      <td>E</td>\n",
       "      <td>Strandvejen 8, 3. tv</td>\n",
       "      <td>2100 København Ø</td>\n",
       "      <td>8495000</td>\n",
       "      <td>14-01-2022</td>\n",
       "      <td>Alm. Salg</td>\n",
       "      <td>170</td>\n",
       "      <td>49971</td>\n",
       "      <td>6 1929 Aktuel værdi</td>\n",
       "      <td>6</td>\n",
       "      <td>1929</td>\n",
       "      <td>0</td>\n",
       "      <td>2100</td>\n",
       "      <td>København Ø</td>\n",
       "    </tr>\n",
       "    <tr>\n",
       "      <th>2</th>\n",
       "      <td>E</td>\n",
       "      <td>Nørrebrogade 9F, 1. th</td>\n",
       "      <td>2200 København N</td>\n",
       "      <td>5400000</td>\n",
       "      <td>14-01-2022</td>\n",
       "      <td>Alm. Salg</td>\n",
       "      <td>105</td>\n",
       "      <td>51429</td>\n",
       "      <td>3 1863 -2% Aktuel værdi</td>\n",
       "      <td>3</td>\n",
       "      <td>1863</td>\n",
       "      <td>-2</td>\n",
       "      <td>2200</td>\n",
       "      <td>København N</td>\n",
       "    </tr>\n",
       "    <tr>\n",
       "      <th>3</th>\n",
       "      <td>E</td>\n",
       "      <td>Badensgade 48, 2</td>\n",
       "      <td>2300 København S</td>\n",
       "      <td>7200000</td>\n",
       "      <td>14-01-2022</td>\n",
       "      <td>Alm. Salg</td>\n",
       "      <td>65</td>\n",
       "      <td>110769</td>\n",
       "      <td>3 1899 Aktuel værdi</td>\n",
       "      <td>3</td>\n",
       "      <td>1899</td>\n",
       "      <td>0</td>\n",
       "      <td>2300</td>\n",
       "      <td>København S</td>\n",
       "    </tr>\n",
       "    <tr>\n",
       "      <th>4</th>\n",
       "      <td>E</td>\n",
       "      <td>Badensgade 48, 1</td>\n",
       "      <td>2300 København S</td>\n",
       "      <td>7200000</td>\n",
       "      <td>14-01-2022</td>\n",
       "      <td>Alm. Salg</td>\n",
       "      <td>79</td>\n",
       "      <td>91139</td>\n",
       "      <td>3 1899 Aktuel værdi</td>\n",
       "      <td>3</td>\n",
       "      <td>1899</td>\n",
       "      <td>0</td>\n",
       "      <td>2300</td>\n",
       "      <td>København S</td>\n",
       "    </tr>\n",
       "  </tbody>\n",
       "</table>\n",
       "</div>"
      ],
      "text/plain": [
       "  Type           StreetAddress              Area     Price        Date  \\\n",
       "0    E  Amerika Plads 6, 3. th  2100 København Ø  5000000   17-01-2022   \n",
       "1    E    Strandvejen 8, 3. tv  2100 København Ø  8495000   14-01-2022   \n",
       "2    E  Nørrebrogade 9F, 1. th  2200 København N  5400000   14-01-2022   \n",
       "3    E        Badensgade 48, 2  2300 København S  7200000   14-01-2022   \n",
       "4    E        Badensgade 48, 1  2300 København S  7200000   14-01-2022   \n",
       "\n",
       "    SellType Size Price_m2 Rooms_YearBuilt_PriceChange Rooms YearBuilt  \\\n",
       "0  Alm. Salg   93    53763     3 2007 -5% Aktuel værdi     3      2007   \n",
       "1  Alm. Salg  170    49971         6 1929 Aktuel værdi     6      1929   \n",
       "2  Alm. Salg  105    51429     3 1863 -2% Aktuel værdi     3      1863   \n",
       "3  Alm. Salg   65   110769         3 1899 Aktuel værdi     3      1899   \n",
       "4  Alm. Salg   79    91139         3 1899 Aktuel værdi     3      1899   \n",
       "\n",
       "  PriceChange PostalCode      AreaName  \n",
       "0          -5       2100   København Ø  \n",
       "1           0       2100   København Ø  \n",
       "2          -2       2200   København N  \n",
       "3           0       2300   København S  \n",
       "4           0       2300   København S  "
      ]
     },
     "execution_count": 4,
     "metadata": {},
     "output_type": "execute_result"
    }
   ],
   "source": [
    "df['Price'] = df['Price'].str.replace('.', '', regex = True).str.replace('kr', '', regex = True)\n",
    "df['Size'] = df['Size'].str.extract('(\\d+)')\n",
    "df['Price_m2']  = df['Price_m2'].str.replace('.', '', regex = True).str.extract('(\\d+)')\n",
    "df[['Rooms', 'YearBuilt', 'PriceChange']] =  df['Rooms_YearBuilt_PriceChange'].str.split(' ', expand = True).iloc[:,0:3]\n",
    "df.loc[df['PriceChange'] == 'Aktuel', ['PriceChange']] = '0'\n",
    "df['PriceChange'] = df['PriceChange'].str.replace('%', '', regex  =True)\n",
    "\n",
    "df['PostalCode'] = df['Area'].str.extract('(\\d{4})')\n",
    "df['AreaName'] = df['Area'].str.extract('(\\D+)')\n",
    "\n",
    "# Check first rows\n",
    "df.head()\n"
   ]
  },
  {
   "cell_type": "markdown",
   "id": "7034c64f-afff-4bc3-991d-5a57ff7b6d39",
   "metadata": {},
   "source": [
    "Convert numeric columns from characters to numeric. Note the change for a row where an incorrect value had been registered for price change."
   ]
  },
  {
   "cell_type": "code",
   "execution_count": 5,
   "id": "d60ae274-6ab6-4d8e-9ddb-4151a665923f",
   "metadata": {
    "tags": []
   },
   "outputs": [
    {
     "name": "stdout",
     "output_type": "stream",
     "text": [
      "Type                           object\n",
      "StreetAddress                  object\n",
      "Area                           object\n",
      "Price                           int32\n",
      "Date                           object\n",
      "SellType                       object\n",
      "Size                            int32\n",
      "Price_m2                        int32\n",
      "Rooms_YearBuilt_PriceChange    object\n",
      "Rooms                           int32\n",
      "YearBuilt                       int32\n",
      "PriceChange                     int32\n",
      "PostalCode                      int32\n",
      "AreaName                       object\n",
      "dtype: object\n"
     ]
    }
   ],
   "source": [
    "# Correct value\n",
    "df.loc[df['PriceChange'] == '299.499.900', 'PriceChange'] = 0 \n",
    "\n",
    "# Creat list with columns to convert\n",
    "num_cols = ['Price', 'Size', 'Price_m2', 'Rooms', 'YearBuilt', 'PriceChange', 'PostalCode']\n",
    "\n",
    "# Loop over list\n",
    "for col in num_cols:\n",
    "    \n",
    "    df[col] = df[col].astype(int)\n",
    "    \n",
    "# Check data types\n",
    "print(df.dtypes)"
   ]
  },
  {
   "cell_type": "markdown",
   "id": "d6fc5550-e3e4-48f9-9628-3deb763496f1",
   "metadata": {},
   "source": [
    "### Floor number"
   ]
  },
  {
   "cell_type": "markdown",
   "id": "7e8890a3-e2aa-4ca3-ba8e-b6a1da88a635",
   "metadata": {},
   "source": [
    "Create variable for the floor number of the apartment by extracting the number from street address column, \"st\" stands for ground floor."
   ]
  },
  {
   "cell_type": "code",
   "execution_count": 6,
   "id": "e2173165-332b-42f2-963b-4dc401fa6922",
   "metadata": {
    "scrolled": true,
    "tags": []
   },
   "outputs": [],
   "source": [
    "df['Floor'] = df['StreetAddress'].str.extract(', (\\d+|st)')\n",
    "df.loc[df['Floor'] == 'st', 'Floor'] = 0"
   ]
  },
  {
   "cell_type": "markdown",
   "id": "52163715-055d-433f-8a34-4698896e498b",
   "metadata": {},
   "source": [
    "Check if any null values appeared for the floor number."
   ]
  },
  {
   "cell_type": "code",
   "execution_count": 7,
   "id": "834fd81e-8e6f-49ef-b48f-706e37cf780a",
   "metadata": {
    "tags": []
   },
   "outputs": [
    {
     "name": "stdout",
     "output_type": "stream",
     "text": [
      "(433, 15)\n"
     ]
    },
    {
     "data": {
      "text/html": [
       "<div>\n",
       "<style scoped>\n",
       "    .dataframe tbody tr th:only-of-type {\n",
       "        vertical-align: middle;\n",
       "    }\n",
       "\n",
       "    .dataframe tbody tr th {\n",
       "        vertical-align: top;\n",
       "    }\n",
       "\n",
       "    .dataframe thead th {\n",
       "        text-align: right;\n",
       "    }\n",
       "</style>\n",
       "<table border=\"1\" class=\"dataframe\">\n",
       "  <thead>\n",
       "    <tr style=\"text-align: right;\">\n",
       "      <th></th>\n",
       "      <th>Type</th>\n",
       "      <th>StreetAddress</th>\n",
       "      <th>Area</th>\n",
       "      <th>Price</th>\n",
       "      <th>Date</th>\n",
       "      <th>SellType</th>\n",
       "      <th>Size</th>\n",
       "      <th>Price_m2</th>\n",
       "      <th>Rooms_YearBuilt_PriceChange</th>\n",
       "      <th>Rooms</th>\n",
       "      <th>YearBuilt</th>\n",
       "      <th>PriceChange</th>\n",
       "      <th>PostalCode</th>\n",
       "      <th>AreaName</th>\n",
       "      <th>Floor</th>\n",
       "    </tr>\n",
       "  </thead>\n",
       "  <tbody>\n",
       "    <tr>\n",
       "      <th>48</th>\n",
       "      <td>E</td>\n",
       "      <td>Overbys Allé 1A</td>\n",
       "      <td>2500 Valby</td>\n",
       "      <td>7550000</td>\n",
       "      <td>05-01-2022</td>\n",
       "      <td>Alm. Salg</td>\n",
       "      <td>121</td>\n",
       "      <td>62397</td>\n",
       "      <td>6 1900 -6% Aktuel værdi</td>\n",
       "      <td>6</td>\n",
       "      <td>1900</td>\n",
       "      <td>-6</td>\n",
       "      <td>2500</td>\n",
       "      <td>Valby</td>\n",
       "      <td>NaN</td>\n",
       "    </tr>\n",
       "    <tr>\n",
       "      <th>398</th>\n",
       "      <td>E</td>\n",
       "      <td>Strandgade 10A</td>\n",
       "      <td>1401 København K</td>\n",
       "      <td>11200000</td>\n",
       "      <td>01-12-2021</td>\n",
       "      <td>Alm. Salg</td>\n",
       "      <td>216</td>\n",
       "      <td>51852</td>\n",
       "      <td>5 1720 Aktuel værdi</td>\n",
       "      <td>5</td>\n",
       "      <td>1720</td>\n",
       "      <td>0</td>\n",
       "      <td>1401</td>\n",
       "      <td>København K</td>\n",
       "      <td>NaN</td>\n",
       "    </tr>\n",
       "    <tr>\n",
       "      <th>647</th>\n",
       "      <td>E</td>\n",
       "      <td>Øresundsvej 132D</td>\n",
       "      <td>2300 København S</td>\n",
       "      <td>6995000</td>\n",
       "      <td>13-11-2021</td>\n",
       "      <td>Alm. Salg</td>\n",
       "      <td>132</td>\n",
       "      <td>52992</td>\n",
       "      <td>4 1934 Aktuel værdi</td>\n",
       "      <td>4</td>\n",
       "      <td>1934</td>\n",
       "      <td>0</td>\n",
       "      <td>2300</td>\n",
       "      <td>København S</td>\n",
       "      <td>NaN</td>\n",
       "    </tr>\n",
       "    <tr>\n",
       "      <th>724</th>\n",
       "      <td>E</td>\n",
       "      <td>Norgesmindevej 35</td>\n",
       "      <td>2900 Hellerup</td>\n",
       "      <td>11350000</td>\n",
       "      <td>10-11-2021</td>\n",
       "      <td>Alm. Salg</td>\n",
       "      <td>223</td>\n",
       "      <td>50897</td>\n",
       "      <td>5 1908 Aktuel værdi</td>\n",
       "      <td>5</td>\n",
       "      <td>1908</td>\n",
       "      <td>0</td>\n",
       "      <td>2900</td>\n",
       "      <td>Hellerup</td>\n",
       "      <td>NaN</td>\n",
       "    </tr>\n",
       "    <tr>\n",
       "      <th>777</th>\n",
       "      <td>E</td>\n",
       "      <td>Kirkebjerg Allé 38</td>\n",
       "      <td>2720 Vanløse</td>\n",
       "      <td>2555000</td>\n",
       "      <td>07-11-2021</td>\n",
       "      <td>Alm. Salg</td>\n",
       "      <td>59</td>\n",
       "      <td>43305</td>\n",
       "      <td>2 1903 -2% Aktuel værdi</td>\n",
       "      <td>2</td>\n",
       "      <td>1903</td>\n",
       "      <td>-2</td>\n",
       "      <td>2720</td>\n",
       "      <td>Vanløse</td>\n",
       "      <td>NaN</td>\n",
       "    </tr>\n",
       "    <tr>\n",
       "      <th>862</th>\n",
       "      <td>E</td>\n",
       "      <td>Øresundsvej 132C</td>\n",
       "      <td>2300 København S</td>\n",
       "      <td>5995000</td>\n",
       "      <td>02-11-2021</td>\n",
       "      <td>Alm. Salg</td>\n",
       "      <td>132</td>\n",
       "      <td>45417</td>\n",
       "      <td>4 1934 Aktuel værdi</td>\n",
       "      <td>4</td>\n",
       "      <td>1934</td>\n",
       "      <td>0</td>\n",
       "      <td>2300</td>\n",
       "      <td>København S</td>\n",
       "      <td>NaN</td>\n",
       "    </tr>\n",
       "    <tr>\n",
       "      <th>992</th>\n",
       "      <td>E</td>\n",
       "      <td>Prøvestens Allé 3A</td>\n",
       "      <td>2300 København S</td>\n",
       "      <td>2870000</td>\n",
       "      <td>27-10-2021</td>\n",
       "      <td>Alm. Salg</td>\n",
       "      <td>74</td>\n",
       "      <td>38784</td>\n",
       "      <td>2 1900 -4% Aktuel værdi</td>\n",
       "      <td>2</td>\n",
       "      <td>1900</td>\n",
       "      <td>-4</td>\n",
       "      <td>2300</td>\n",
       "      <td>København S</td>\n",
       "      <td>NaN</td>\n",
       "    </tr>\n",
       "    <tr>\n",
       "      <th>1586</th>\n",
       "      <td>E</td>\n",
       "      <td>Rosenvængets Allé 5A</td>\n",
       "      <td>2100 København Ø</td>\n",
       "      <td>3750000</td>\n",
       "      <td>28-09-2021</td>\n",
       "      <td>Alm. Salg</td>\n",
       "      <td>59</td>\n",
       "      <td>63559</td>\n",
       "      <td>2 1875 Aktuel værdi</td>\n",
       "      <td>2</td>\n",
       "      <td>1875</td>\n",
       "      <td>0</td>\n",
       "      <td>2100</td>\n",
       "      <td>København Ø</td>\n",
       "      <td>NaN</td>\n",
       "    </tr>\n",
       "    <tr>\n",
       "      <th>1812</th>\n",
       "      <td>E</td>\n",
       "      <td>Øresundsvej 126A</td>\n",
       "      <td>2300 København S</td>\n",
       "      <td>2895000</td>\n",
       "      <td>21-09-2021</td>\n",
       "      <td>Alm. Salg</td>\n",
       "      <td>54</td>\n",
       "      <td>53611</td>\n",
       "      <td>2 1920 -3% Aktuel værdi</td>\n",
       "      <td>2</td>\n",
       "      <td>1920</td>\n",
       "      <td>-3</td>\n",
       "      <td>2300</td>\n",
       "      <td>København S</td>\n",
       "      <td>NaN</td>\n",
       "    </tr>\n",
       "    <tr>\n",
       "      <th>1865</th>\n",
       "      <td>E</td>\n",
       "      <td>Constantin Hansens Gade 8C</td>\n",
       "      <td>1799 København V</td>\n",
       "      <td>3120000</td>\n",
       "      <td>19-09-2021</td>\n",
       "      <td>Alm. Salg</td>\n",
       "      <td>42</td>\n",
       "      <td>74286</td>\n",
       "      <td>1 2019 -2% Aktuel værdi</td>\n",
       "      <td>1</td>\n",
       "      <td>2019</td>\n",
       "      <td>-2</td>\n",
       "      <td>1799</td>\n",
       "      <td>København V</td>\n",
       "      <td>NaN</td>\n",
       "    </tr>\n",
       "    <tr>\n",
       "      <th>2116</th>\n",
       "      <td>E</td>\n",
       "      <td>Strandlodsvej 12B</td>\n",
       "      <td>2300 København S</td>\n",
       "      <td>7700000</td>\n",
       "      <td>07-09-2021</td>\n",
       "      <td>Alm. Salg</td>\n",
       "      <td>135</td>\n",
       "      <td>57037</td>\n",
       "      <td>5 2017 0% Aktuel værdi</td>\n",
       "      <td>5</td>\n",
       "      <td>2017</td>\n",
       "      <td>0</td>\n",
       "      <td>2300</td>\n",
       "      <td>København S</td>\n",
       "      <td>NaN</td>\n",
       "    </tr>\n",
       "    <tr>\n",
       "      <th>2165</th>\n",
       "      <td>E</td>\n",
       "      <td>Købkes Plads 16</td>\n",
       "      <td>1799 København V</td>\n",
       "      <td>10300000</td>\n",
       "      <td>04-09-2021</td>\n",
       "      <td>Alm. Salg</td>\n",
       "      <td>153</td>\n",
       "      <td>67320</td>\n",
       "      <td>4 2019 -2% Aktuel værdi</td>\n",
       "      <td>4</td>\n",
       "      <td>2019</td>\n",
       "      <td>-2</td>\n",
       "      <td>1799</td>\n",
       "      <td>København V</td>\n",
       "      <td>NaN</td>\n",
       "    </tr>\n",
       "    <tr>\n",
       "      <th>2680</th>\n",
       "      <td>E</td>\n",
       "      <td>Roselillevej 80</td>\n",
       "      <td>2300 København S</td>\n",
       "      <td>10000000</td>\n",
       "      <td>12-08-2021</td>\n",
       "      <td>Alm. Salg</td>\n",
       "      <td>107</td>\n",
       "      <td>93458</td>\n",
       "      <td>4 1932 Aktuel værdi</td>\n",
       "      <td>4</td>\n",
       "      <td>1932</td>\n",
       "      <td>0</td>\n",
       "      <td>2300</td>\n",
       "      <td>København S</td>\n",
       "      <td>NaN</td>\n",
       "    </tr>\n",
       "    <tr>\n",
       "      <th>2682</th>\n",
       "      <td>E</td>\n",
       "      <td>Roselillevej 80A</td>\n",
       "      <td>2300 København S</td>\n",
       "      <td>10000000</td>\n",
       "      <td>12-08-2021</td>\n",
       "      <td>Alm. Salg</td>\n",
       "      <td>115</td>\n",
       "      <td>86957</td>\n",
       "      <td>4 1932 Aktuel værdi</td>\n",
       "      <td>4</td>\n",
       "      <td>1932</td>\n",
       "      <td>0</td>\n",
       "      <td>2300</td>\n",
       "      <td>København S</td>\n",
       "      <td>NaN</td>\n",
       "    </tr>\n",
       "    <tr>\n",
       "      <th>2892</th>\n",
       "      <td>E</td>\n",
       "      <td>Emdrupvej 130B</td>\n",
       "      <td>2400 København NV</td>\n",
       "      <td>3975000</td>\n",
       "      <td>29-07-2021</td>\n",
       "      <td>Alm. Salg</td>\n",
       "      <td>93</td>\n",
       "      <td>42742</td>\n",
       "      <td>4 1890 -1% Aktuel værdi</td>\n",
       "      <td>4</td>\n",
       "      <td>1890</td>\n",
       "      <td>-1</td>\n",
       "      <td>2400</td>\n",
       "      <td>København NV</td>\n",
       "      <td>NaN</td>\n",
       "    </tr>\n",
       "  </tbody>\n",
       "</table>\n",
       "</div>"
      ],
      "text/plain": [
       "     Type               StreetAddress               Area     Price  \\\n",
       "48      E             Overbys Allé 1A         2500 Valby   7550000   \n",
       "398     E              Strandgade 10A   1401 København K  11200000   \n",
       "647     E            Øresundsvej 132D   2300 København S   6995000   \n",
       "724     E           Norgesmindevej 35      2900 Hellerup  11350000   \n",
       "777     E          Kirkebjerg Allé 38       2720 Vanløse   2555000   \n",
       "862     E            Øresundsvej 132C   2300 København S   5995000   \n",
       "992     E          Prøvestens Allé 3A   2300 København S   2870000   \n",
       "1586    E        Rosenvængets Allé 5A   2100 København Ø   3750000   \n",
       "1812    E            Øresundsvej 126A   2300 København S   2895000   \n",
       "1865    E  Constantin Hansens Gade 8C   1799 København V   3120000   \n",
       "2116    E           Strandlodsvej 12B   2300 København S   7700000   \n",
       "2165    E             Købkes Plads 16   1799 København V  10300000   \n",
       "2680    E             Roselillevej 80   2300 København S  10000000   \n",
       "2682    E            Roselillevej 80A   2300 København S  10000000   \n",
       "2892    E              Emdrupvej 130B  2400 København NV   3975000   \n",
       "\n",
       "            Date   SellType  Size  Price_m2 Rooms_YearBuilt_PriceChange  \\\n",
       "48    05-01-2022  Alm. Salg   121     62397     6 1900 -6% Aktuel værdi   \n",
       "398   01-12-2021  Alm. Salg   216     51852         5 1720 Aktuel værdi   \n",
       "647   13-11-2021  Alm. Salg   132     52992         4 1934 Aktuel værdi   \n",
       "724   10-11-2021  Alm. Salg   223     50897         5 1908 Aktuel værdi   \n",
       "777   07-11-2021  Alm. Salg    59     43305     2 1903 -2% Aktuel værdi   \n",
       "862   02-11-2021  Alm. Salg   132     45417         4 1934 Aktuel værdi   \n",
       "992   27-10-2021  Alm. Salg    74     38784     2 1900 -4% Aktuel værdi   \n",
       "1586  28-09-2021  Alm. Salg    59     63559         2 1875 Aktuel værdi   \n",
       "1812  21-09-2021  Alm. Salg    54     53611     2 1920 -3% Aktuel værdi   \n",
       "1865  19-09-2021  Alm. Salg    42     74286     1 2019 -2% Aktuel værdi   \n",
       "2116  07-09-2021  Alm. Salg   135     57037      5 2017 0% Aktuel værdi   \n",
       "2165  04-09-2021  Alm. Salg   153     67320     4 2019 -2% Aktuel værdi   \n",
       "2680  12-08-2021  Alm. Salg   107     93458         4 1932 Aktuel værdi   \n",
       "2682  12-08-2021  Alm. Salg   115     86957         4 1932 Aktuel værdi   \n",
       "2892  29-07-2021  Alm. Salg    93     42742     4 1890 -1% Aktuel værdi   \n",
       "\n",
       "      Rooms  YearBuilt  PriceChange  PostalCode       AreaName Floor  \n",
       "48        6       1900           -6        2500          Valby   NaN  \n",
       "398       5       1720            0        1401    København K   NaN  \n",
       "647       4       1934            0        2300    København S   NaN  \n",
       "724       5       1908            0        2900       Hellerup   NaN  \n",
       "777       2       1903           -2        2720        Vanløse   NaN  \n",
       "862       4       1934            0        2300    København S   NaN  \n",
       "992       2       1900           -4        2300    København S   NaN  \n",
       "1586      2       1875            0        2100    København Ø   NaN  \n",
       "1812      2       1920           -3        2300    København S   NaN  \n",
       "1865      1       2019           -2        1799    København V   NaN  \n",
       "2116      5       2017            0        2300    København S   NaN  \n",
       "2165      4       2019           -2        1799    København V   NaN  \n",
       "2680      4       1932            0        2300    København S   NaN  \n",
       "2682      4       1932            0        2300    København S   NaN  \n",
       "2892      4       1890           -1        2400   København NV   NaN  "
      ]
     },
     "execution_count": 7,
     "metadata": {},
     "output_type": "execute_result"
    }
   ],
   "source": [
    "df_floor_null = df[df['Floor'].isnull()]\n",
    "\n",
    "print(df_floor_null.shape)\n",
    "\n",
    "df_floor_null.head(15)"
   ]
  },
  {
   "cell_type": "markdown",
   "id": "7c8d6d6d-3441-412c-b1d8-e615e75fc654",
   "metadata": {},
   "source": [
    "There are 433 observations where a floor number can not be extracted. A quick check on some of the addresses shows that the type column is either coded incorrectly or the observations is an apartment located in a villa. Keep the obersvations for now, setting the floor variable to -1 for easy identification later."
   ]
  },
  {
   "cell_type": "code",
   "execution_count": 8,
   "id": "e9de40ad-7c3c-4ee3-a74f-b80154cf6cdf",
   "metadata": {},
   "outputs": [
    {
     "name": "stdout",
     "output_type": "stream",
     "text": [
      "<class 'pandas.core.frame.DataFrame'>\n",
      "Int64Index: 40673 entries, 0 to 54792\n",
      "Data columns (total 15 columns):\n",
      " #   Column                       Non-Null Count  Dtype \n",
      "---  ------                       --------------  ----- \n",
      " 0   Type                         40673 non-null  object\n",
      " 1   StreetAddress                40673 non-null  object\n",
      " 2   Area                         40673 non-null  object\n",
      " 3   Price                        40673 non-null  int32 \n",
      " 4   Date                         40673 non-null  object\n",
      " 5   SellType                     40673 non-null  object\n",
      " 6   Size                         40673 non-null  int32 \n",
      " 7   Price_m2                     40673 non-null  int32 \n",
      " 8   Rooms_YearBuilt_PriceChange  40673 non-null  object\n",
      " 9   Rooms                        40673 non-null  int32 \n",
      " 10  YearBuilt                    40673 non-null  int32 \n",
      " 11  PriceChange                  40673 non-null  int32 \n",
      " 12  PostalCode                   40673 non-null  int32 \n",
      " 13  AreaName                     40673 non-null  object\n",
      " 14  Floor                        40673 non-null  int32 \n",
      "dtypes: int32(8), object(7)\n",
      "memory usage: 3.7+ MB\n"
     ]
    }
   ],
   "source": [
    "df.loc[df['Floor'].isnull(), 'Floor'] = -1\n",
    "\n",
    "df['Floor'] = df['Floor'].astype(int)\n",
    "df.info()"
   ]
  },
  {
   "cell_type": "markdown",
   "id": "195a53e7-bcf7-4a6a-96d6-d23b7a2c4531",
   "metadata": {},
   "source": [
    "## Select relevant columns"
   ]
  },
  {
   "cell_type": "markdown",
   "id": "5d7a0b47-691a-44f9-aaf3-f8c09e7bf559",
   "metadata": {},
   "source": [
    "Drop redundant columns"
   ]
  },
  {
   "cell_type": "code",
   "execution_count": 9,
   "id": "bf005785-e403-4729-8f89-081795278c7f",
   "metadata": {},
   "outputs": [],
   "source": [
    "df.drop(['Rooms_YearBuilt_PriceChange', 'Type', 'SellType', 'Area'], inplace = True, axis = 1)"
   ]
  },
  {
   "cell_type": "markdown",
   "id": "e3b6b6e0-b682-4b8b-8c6b-0b95615dd329",
   "metadata": {},
   "source": [
    "Insert longitude and latitude in data frame and inspect the results"
   ]
  },
  {
   "cell_type": "markdown",
   "id": "edadff9d-fb8e-4cc2-8c33-f914f00adcf2",
   "metadata": {
    "tags": []
   },
   "source": [
    "# Filter data\n",
    "The data need to be filtered for outliers and possible incorrections. By checking summary statistics it is possible a couple if things.\n",
    "- There are a large spread in values for price, size and price per sqm.\n",
    "<br>\n",
    "<br>\n",
    "- The minimum value for YearBuilt is year 0, which seems odd.\n",
    "<br>\n",
    "<br>\n",
    "- A price change o -100 or +249% does not seem realistic.\n"
   ]
  },
  {
   "cell_type": "code",
   "execution_count": null,
   "id": "73f23410-5893-435d-bbe3-8dd8790b8bf2",
   "metadata": {},
   "outputs": [],
   "source": [
    "df.describe()"
   ]
  },
  {
   "cell_type": "code",
   "execution_count": null,
   "id": "48a4b9b6-85db-49b5-9f32-d1a6ab3e73d2",
   "metadata": {},
   "outputs": [],
   "source": [
    "df.hist(bins=100, figsize=(12,10))"
   ]
  },
  {
   "cell_type": "markdown",
   "id": "263e0f01-a033-4c3d-bdd4-411c82de3ffa",
   "metadata": {},
   "source": [
    "Check some boxplots to identify possible outliers"
   ]
  },
  {
   "cell_type": "code",
   "execution_count": null,
   "id": "427f0619-af77-4120-a8eb-637365c3e1ce",
   "metadata": {},
   "outputs": [],
   "source": [
    "fig = plt.figure(figsize = (13,8))\n",
    "\n",
    "\n",
    "plt.subplot(2,2,1)\n",
    "sns.boxplot(data = df['Price'])\n",
    "plt.subplot(2,2,2)\n",
    "sns.boxplot(data = df['Size'])\n",
    "plt.subplot(2,2,3)\n",
    "sns.boxplot(data= df['Price_m2'])\n",
    "plt.subplot(2,2,4)\n",
    "sns.boxplot(data = df['PriceChange'])"
   ]
  },
  {
   "cell_type": "markdown",
   "id": "3fe4d349-f995-42dd-82f9-239d20b7179c",
   "metadata": {},
   "source": [
    "### Price vs size"
   ]
  },
  {
   "cell_type": "markdown",
   "id": "2329f8a3-5271-4ff9-bb48-b1b33fbed6d3",
   "metadata": {},
   "source": [
    "There seems to be quite some spread in the variables, for example a maximum price of 85,000,000 DKK or a maximum size of 857 square meters. Let's to plot the relationship between price and size."
   ]
  },
  {
   "cell_type": "code",
   "execution_count": null,
   "id": "dcc33eae-b0d4-4293-9c6a-154992b2350e",
   "metadata": {},
   "outputs": [],
   "source": [
    "sns.scatterplot(data = df,\n",
    "            x = 'Size',\n",
    "            y = 'Price',\n",
    "            alpha = 0.1)"
   ]
  },
  {
   "cell_type": "markdown",
   "id": "297498bd-f78c-4301-8995-63efa2492f7f",
   "metadata": {},
   "source": [
    "The horizontal lines looks odd, especially considering it appears for the most expensive. Let's look more into those observations."
   ]
  },
  {
   "cell_type": "code",
   "execution_count": null,
   "id": "fca8441e-49b4-4c76-ae4b-a2c3a27cf503",
   "metadata": {},
   "outputs": [],
   "source": [
    "df.loc[df['Price'] > 80000000].head(10)"
   ]
  },
  {
   "cell_type": "markdown",
   "id": "69ebe245-7887-4fa2-a102-7cc93adddabf",
   "metadata": {},
   "source": [
    "It seems like these are apartments bought in larger housing investments, which is probably the case for the other data points on the horizontal lines as well. By counting number of observations by street address (excluding floor and apartment), price, and date, I can find similar instances, which most probably are not private acqusitions."
   ]
  },
  {
   "cell_type": "code",
   "execution_count": null,
   "id": "c1aed9c6-a42a-4a53-8aee-a2b55694d09d",
   "metadata": {},
   "outputs": [],
   "source": [
    "df['Street'] =  df['StreetAddress'].str.extract(\"([^0-9]+\\d{0,3})\")\n",
    "\n",
    "df_mult_out = (df.groupby(['Price', 'Date', 'Street'])['Price'].size()\n",
    "               .sort_values(ascending = False)\n",
    "               .reset_index(name = 'Count')\n",
    "               .query('Count >= 2')\n",
    "              )\n",
    "\n",
    "df_mult_out.head(10)"
   ]
  },
  {
   "cell_type": "markdown",
   "id": "4631acf4-3344-49e2-9a86-2f0af180d554",
   "metadata": {},
   "source": [
    "Lets filter out the observations being part of these investments, check how many observations that are filtered out. "
   ]
  },
  {
   "cell_type": "code",
   "execution_count": null,
   "id": "a6e3e5f5-7287-4b6d-9f3f-255f758ac942",
   "metadata": {},
   "outputs": [],
   "source": [
    "print(df_mult_out['Count'].sum())\n",
    "\n",
    "# Join number of counts to original data frame nad filter out rows \n",
    "df = (\n",
    "    df.merge(\n",
    "    df_mult_out,\n",
    "    how = 'left',\n",
    "    on = ['Price', 'Date', 'Street'])\n",
    "    .query('Count.isna()', engine = 'python')\n",
    ")\n",
    "\n",
    "print(df.shape)\n",
    "df.head()\n",
    "\n",
    "df.drop('Count', axis = 1, inplace = True)"
   ]
  },
  {
   "cell_type": "markdown",
   "id": "fedaee25-7e92-42ae-897a-26c39a02304a",
   "metadata": {},
   "source": [
    "Plot the price vs. size to see how the filtering has changed the data."
   ]
  },
  {
   "cell_type": "code",
   "execution_count": null,
   "id": "fe84bd01-208b-4c79-afb2-f662069ae52e",
   "metadata": {},
   "outputs": [],
   "source": [
    "sns.scatterplot(data = df,\n",
    "            x = 'Size',\n",
    "            y = 'Price',\n",
    "            alpha = 0.1)"
   ]
  },
  {
   "cell_type": "code",
   "execution_count": null,
   "id": "d689203d-4566-48cf-83f6-2e89c629240c",
   "metadata": {},
   "outputs": [],
   "source": [
    "fig = plt.figure(figsize = (13,8))\n",
    "\n",
    "\n",
    "plt.subplot(2,2,1)\n",
    "sns.boxplot(data = df['Price'])\n",
    "plt.subplot(2,2,2)\n",
    "sns.boxplot(data = df['Size'])\n",
    "plt.subplot(2,2,3)\n",
    "sns.boxplot(data= df['Price_m2'])\n",
    "plt.subplot(2,2,4)\n",
    "sns.boxplot(data = df['PriceChange'])\n"
   ]
  },
  {
   "cell_type": "code",
   "execution_count": null,
   "id": "c301055e-d1b8-44b2-98ae-8e8bb1bf0ada",
   "metadata": {},
   "outputs": [],
   "source": []
  },
  {
   "cell_type": "markdown",
   "id": "da4794e9-6944-4678-b323-c8d9b4a1947d",
   "metadata": {},
   "source": [
    "### Size"
   ]
  },
  {
   "cell_type": "markdown",
   "id": "952d2f32-b4d3-4695-9693-10a7d94dc989",
   "metadata": {},
   "source": [
    "There still seem to be some outliers with regards to size. Start by visualizing the distribution of apartment sizes by a box plot and again the relationship between price and size."
   ]
  },
  {
   "cell_type": "code",
   "execution_count": null,
   "id": "05975dc1-286e-45b9-bcac-3010635830f1",
   "metadata": {},
   "outputs": [],
   "source": [
    "sns.boxplot(data = df['Size'])\n",
    "\n",
    "\n",
    "df[['Size', 'Price_m2']].describe()"
   ]
  },
  {
   "cell_type": "code",
   "execution_count": null,
   "id": "03373084-bbee-4c5c-ab26-1d01046e086f",
   "metadata": {},
   "outputs": [],
   "source": [
    "sns.scatterplot(data = df,\n",
    "                x = 'Size',\n",
    "                y = 'Price',\n",
    "                alpha = 0.3\n",
    "               )"
   ]
  },
  {
   "cell_type": "code",
   "execution_count": null,
   "id": "3b02f050-0684-42f0-ab22-647f95be04ce",
   "metadata": {},
   "outputs": [],
   "source": [
    "df['Price_m2_norm'] = (df['Price_m2'] - df['Price_m2'].mean()) / df['Price_m2'].std()\n",
    "\n",
    "print(df['Price_m2_norm'].describe())\n",
    "\n",
    "sns.scatterplot(data = df,\n",
    "                x = 'Size',\n",
    "                y = 'Price',\n",
    "                hue='Price_m2_norm', \n",
    "                palette='RdBu',\n",
    "                #alpha = 0.3\n",
    "               )\n",
    "\n",
    "\n"
   ]
  },
  {
   "cell_type": "code",
   "execution_count": null,
   "id": "a4ce2d23-553c-41f5-a608-ca1b97ece821",
   "metadata": {},
   "outputs": [],
   "source": [
    "px.scatter(df,\n",
    "           x = 'Size',\n",
    "           y = 'Price',\n",
    "           color = 'Price_m2_norm'\n",
    "          )"
   ]
  },
  {
   "cell_type": "markdown",
   "id": "074af196-fbd8-475d-a303-3860de342286",
   "metadata": {},
   "source": [
    "Check the most extreme cases"
   ]
  },
  {
   "cell_type": "code",
   "execution_count": null,
   "id": "f7adbf43-9285-476c-ad9d-395ef367bba4",
   "metadata": {},
   "outputs": [],
   "source": [
    "df.sort_values(by = 'Price_m2_norm')"
   ]
  },
  {
   "cell_type": "code",
   "execution_count": null,
   "id": "fde68068-f0c2-4f3e-8bc3-dc3d7f896526",
   "metadata": {},
   "outputs": [],
   "source": [
    "\n"
   ]
  },
  {
   "cell_type": "markdown",
   "id": "8702a3a9-034e-497c-a803-1fc1e625d62d",
   "metadata": {},
   "source": [
    "The two observations around 850 and 400 m2 looks like outliers "
   ]
  },
  {
   "cell_type": "code",
   "execution_count": null,
   "id": "83fd76dc-cd38-459d-9030-e1389da273ee",
   "metadata": {},
   "outputs": [],
   "source": [
    "max_size = 200\n",
    "df_ls = df[df['Size'] > max_size]\n"
   ]
  },
  {
   "cell_type": "code",
   "execution_count": null,
   "id": "c35fc993-15a2-4fe2-acde-1cc357d22580",
   "metadata": {},
   "outputs": [],
   "source": [
    "df_ls.hist(bins = 50,\n",
    "           figsize=(12,10))\n",
    "\n",
    "\n",
    "\n"
   ]
  },
  {
   "cell_type": "code",
   "execution_count": null,
   "id": "de22d819-970f-41c0-be45-67d88c1ae5ee",
   "metadata": {},
   "outputs": [],
   "source": []
  },
  {
   "cell_type": "markdown",
   "id": "937b3008-4f80-415a-95c5-820506b12285",
   "metadata": {},
   "source": [
    "Write data to new file"
   ]
  },
  {
   "cell_type": "code",
   "execution_count": null,
   "id": "13cb7970-f91b-430e-bdb5-18dd1b9e2326",
   "metadata": {},
   "outputs": [],
   "source": [
    "df.to_csv('Data_Boliga_20220208_cleaned_20220313.csv', index  = False)"
   ]
  }
 ],
 "metadata": {
  "kernelspec": {
   "display_name": "Python 3 (ipykernel)",
   "language": "python",
   "name": "python3"
  },
  "language_info": {
   "codemirror_mode": {
    "name": "ipython",
    "version": 3
   },
   "file_extension": ".py",
   "mimetype": "text/x-python",
   "name": "python",
   "nbconvert_exporter": "python",
   "pygments_lexer": "ipython3",
   "version": "3.8.3"
  }
 },
 "nbformat": 4,
 "nbformat_minor": 5
}
